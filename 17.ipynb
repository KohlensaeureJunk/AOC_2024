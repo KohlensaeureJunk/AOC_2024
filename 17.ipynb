{
 "cells": [
  {
   "cell_type": "code",
   "execution_count": null,
   "metadata": {},
   "outputs": [],
   "source": [
    "from tqdm import tqdm\n",
    "with open(\"input_17\") as f:\n",
    "    input = f.read().split(\"\\n\")"
   ]
  },
  {
   "cell_type": "code",
   "execution_count": null,
   "metadata": {},
   "outputs": [],
   "source": [
    "A = int(\"\".join([i for i in input[0] if i.isnumeric()]))\n",
    "B = int(\"\".join([i for i in input[1] if i.isnumeric()]))\n",
    "C = int(\"\".join([i for i in input[2] if i.isnumeric()]))\n",
    "prog = [int(i) for i in input[4] if i.isnumeric()]\n",
    "A, B, C, prog"
   ]
  },
  {
   "cell_type": "code",
   "execution_count": 8,
   "metadata": {},
   "outputs": [],
   "source": [
    "def program(A, B, C, prog):\n",
    "    pointer = 0\n",
    "    output = []\n",
    "    while True:\n",
    "        if pointer > len(prog)-1:\n",
    "            break\n",
    "        opcode = prog[pointer]\n",
    "        operand = prog[pointer+1]\n",
    "        combo_operand_map = {4:A, 5:B, 6:C}\n",
    "        if operand > 3: \n",
    "            combo_operand = combo_operand_map[operand]\n",
    "        else: combo_operand = operand\n",
    "        #print(opcode, operand, combo_operand)\n",
    "\n",
    "        if opcode == 0:\n",
    "            #print(A, combo_operand)\n",
    "            A = A // 2**combo_operand\n",
    "        \n",
    "        elif opcode == 1:\n",
    "            B = B ^ operand\n",
    "\n",
    "        elif opcode == 2:\n",
    "            B = combo_operand % 8\n",
    "\n",
    "        elif opcode == 3:\n",
    "            if A != 0:\n",
    "                pointer = operand - 2\n",
    "        \n",
    "        elif opcode == 4:\n",
    "            B = B ^ C\n",
    "        \n",
    "        elif opcode == 5:\n",
    "            output.append(combo_operand % 8)\n",
    "\n",
    "        elif opcode == 6:\n",
    "            B = A // 2**combo_operand\n",
    "\n",
    "        elif opcode == 7:\n",
    "            C = A // 2**combo_operand\n",
    "\n",
    "        pointer += 2\n",
    "        \n",
    "    return output"
   ]
  },
  {
   "cell_type": "code",
   "execution_count": null,
   "metadata": {},
   "outputs": [],
   "source": [
    "# part 1:\n",
    "output = program(A, B, C, prog)\n",
    "\",\".join(str(i) for i in output)"
   ]
  },
  {
   "cell_type": "code",
   "execution_count": null,
   "metadata": {},
   "outputs": [],
   "source": [
    "# part 2:\n",
    "current_a = 0\n",
    "for i in range(1,17):\n",
    "    current_a *= 8\n",
    "    while program(current_a,0,0,prog) != prog[-i:]:\n",
    "        current_a += 1\n",
    "current_a"
   ]
  }
 ],
 "metadata": {
  "kernelspec": {
   "display_name": "Python 3",
   "language": "python",
   "name": "python3"
  },
  "language_info": {
   "codemirror_mode": {
    "name": "ipython",
    "version": 3
   },
   "file_extension": ".py",
   "mimetype": "text/x-python",
   "name": "python",
   "nbconvert_exporter": "python",
   "pygments_lexer": "ipython3",
   "version": "3.11.9"
  }
 },
 "nbformat": 4,
 "nbformat_minor": 2
}

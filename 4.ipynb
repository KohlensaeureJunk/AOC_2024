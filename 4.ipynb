{
 "cells": [
  {
   "cell_type": "code",
   "execution_count": null,
   "metadata": {},
   "outputs": [],
   "source": [
    "with open(\"input_4\") as f:\n",
    "    input = f.read().split(\"\\n\")\n",
    "input = input[:-1]"
   ]
  },
  {
   "cell_type": "code",
   "execution_count": null,
   "metadata": {},
   "outputs": [],
   "source": [
    "def solution_1(input):\n",
    "    c = 0\n",
    "    N = len(input)\n",
    "    M = len(input[0])\n",
    "    for i in range(N):\n",
    "        for j in range(M):\n",
    "            if input[i][j] != \"X\":\n",
    "                continue\n",
    "            #horizontal_right:\n",
    "            if j+3 <= M-1:\n",
    "                if input[i][j:j+4] ==\"XMAS\":\n",
    "                    c += 1\n",
    "            #horizontal_left:\n",
    "            if j-3 >= 0:\n",
    "                if input[i][j-3:j+1] == \"SAMX\":\n",
    "                    c += 1\n",
    "            #vertical_down:\n",
    "            if i+3 <= N-1:\n",
    "                if \"\".join([car for car in [input[i+k][j] for k in range(4)]]) == \"XMAS\":\n",
    "                    c += 1\n",
    "            #vertical_up\n",
    "            if i-3 >= 0:\n",
    "                if \"\".join([car for car in [input[i-k][j] for k in range(4)]]) == \"XMAS\":\n",
    "                    c += 1\n",
    "            #diagonal_down_right\n",
    "            if i+3 <= N-1 and j+3 <= M-1:\n",
    "                if \"\".join([car for car in [input[i+k][j+k] for k in range(4)]]) == \"XMAS\":\n",
    "                    c += 1\n",
    "            #diagonal_down_left\n",
    "            if i+3 <= N-1 and j-3 >= 0:\n",
    "                if \"\".join([car for car in [input[i+k][j-k] for k in range(4)]]) == \"XMAS\":\n",
    "                    c += 1            \n",
    "            #diagonal_up_right\n",
    "            if i-3 >= 0 and j+3 <= M-1:\n",
    "                if \"\".join([car for car in [input[i-k][j+k] for k in range(4)]]) == \"XMAS\":\n",
    "                    c += 1            \n",
    "            #diagonal_up_left\n",
    "            if i-3 >= 0 and j-3 >= 0:\n",
    "                if \"\".join([car for car in [input[i-k][j-k] for k in range(4)]]) == \"XMAS\":\n",
    "                    c += 1\n",
    "    print(c)"
   ]
  },
  {
   "cell_type": "code",
   "execution_count": null,
   "metadata": {},
   "outputs": [],
   "source": [
    "solution_1(input)"
   ]
  },
  {
   "cell_type": "code",
   "execution_count": null,
   "metadata": {},
   "outputs": [],
   "source": [
    "def solution_2(input):\n",
    "    c = 0\n",
    "    N = len(input)\n",
    "    M = len(input[0])\n",
    "    for i in range(1,N-1):\n",
    "        for j in range(1,M-1):\n",
    "            if input[i][j] != \"A\":\n",
    "                continue\n",
    "            if not ((input[i-1][j-1] == \"M\" and input[i+1][j+1] == \"S\") or (input[i-1][j-1] == \"S\" and input[i+1][j+1] == \"M\")):\n",
    "                continue\n",
    "            if not ((input[i+1][j-1] == \"M\" and input[i-1][j+1] == \"S\") or (input[i+1][j-1] == \"S\" and input[i-1][j+1] == \"M\")):\n",
    "                continue\n",
    "            c += 1\n",
    "    print(c)"
   ]
  },
  {
   "cell_type": "code",
   "execution_count": null,
   "metadata": {},
   "outputs": [],
   "source": [
    "solution_2(input)"
   ]
  }
 ],
 "metadata": {
  "kernelspec": {
   "display_name": "Python 3",
   "language": "python",
   "name": "python3"
  },
  "language_info": {
   "codemirror_mode": {
    "name": "ipython",
    "version": 3
   },
   "file_extension": ".py",
   "mimetype": "text/x-python",
   "name": "python",
   "nbconvert_exporter": "python",
   "pygments_lexer": "ipython3",
   "version": "3.11.9"
  }
 },
 "nbformat": 4,
 "nbformat_minor": 2
}

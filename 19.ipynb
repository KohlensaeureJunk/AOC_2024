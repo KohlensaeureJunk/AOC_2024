{
 "cells": [
  {
   "cell_type": "code",
   "execution_count": null,
   "metadata": {},
   "outputs": [],
   "source": [
    "from tqdm import tqdm\n",
    "import heapq as hq\n",
    "with open(\"input_19\") as f:\n",
    "    input = f.read().split(\"\\n\")\n",
    "towels = input[0].split(\", \")\n",
    "designs = [line for line in input[2:]]"
   ]
  },
  {
   "cell_type": "code",
   "execution_count": null,
   "metadata": {},
   "outputs": [],
   "source": [
    "c = 0\n",
    "for design in tqdm(designs):\n",
    "    maxlen = max([len(i) for i in towels])\n",
    "    to_try = [(len(design), design)]\n",
    "    hq.heapify(to_try)\n",
    "    d = 0\n",
    "    while to_try and d < 100:\n",
    "        d += 1\n",
    "        curlen, current = hq.heappop(to_try)\n",
    "        if current in towels:\n",
    "            c += 1\n",
    "            break\n",
    "        for i in range(1,max(curlen+1, maxlen+1)):\n",
    "            if current[:i] in towels:\n",
    "                hq.heappush(to_try, (curlen - i, current[i:]))\n",
    "c\n"
   ]
  },
  {
   "cell_type": "code",
   "execution_count": null,
   "metadata": {},
   "outputs": [],
   "source": [
    "c = 0\n",
    "for design in tqdm(designs):\n",
    "    designlen = len(design)\n",
    "    possible = [towel for towel in towels if towel in design]\n",
    "    # save combinations as string : multiplicity\n",
    "    combinations = {\"\":1}\n",
    "    while len(combinations) > 0:\n",
    "        new_combinations = {}\n",
    "        for combination in combinations.keys():\n",
    "            multiplicity = combinations[combination]\n",
    "            for towel in possible:\n",
    "                new_comb = combination + towel\n",
    "                #print(new_comb, design[:len(new_comb)])\n",
    "                if new_comb == design[:len(new_comb)]:\n",
    "                    if len(new_comb) == designlen:\n",
    "                        c += multiplicity\n",
    "                    elif new_comb in new_combinations:\n",
    "                        new_combinations[new_comb] += multiplicity\n",
    "                    else:\n",
    "                        new_combinations[new_comb] = multiplicity\n",
    "        combinations = new_combinations.copy()\n",
    "c"
   ]
  }
 ],
 "metadata": {
  "kernelspec": {
   "display_name": "Python 3",
   "language": "python",
   "name": "python3"
  },
  "language_info": {
   "codemirror_mode": {
    "name": "ipython",
    "version": 3
   },
   "file_extension": ".py",
   "mimetype": "text/x-python",
   "name": "python",
   "nbconvert_exporter": "python",
   "pygments_lexer": "ipython3",
   "version": "3.11.9"
  }
 },
 "nbformat": 4,
 "nbformat_minor": 2
}

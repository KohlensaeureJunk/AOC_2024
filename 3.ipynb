{
 "cells": [
  {
   "cell_type": "code",
   "execution_count": null,
   "metadata": {},
   "outputs": [],
   "source": [
    "with open(\"input_3\") as f:\n",
    "    input = f.read()\n",
    "input\n",
    "#test\n",
    "#input = \"xmul(2,4)%&mul[3,7]!@^do_not_mul(5,5)+mul(32,64]then(mul(11,8)mul(8,5))\""
   ]
  },
  {
   "cell_type": "code",
   "execution_count": null,
   "metadata": {},
   "outputs": [],
   "source": [
    "def preprocess(input):\n",
    "    split = input.split(\"mul\")\n",
    "    cleaned = []\n",
    "    for string in split:\n",
    "        if len(string) > 9:\n",
    "            cleaned.append(string[:9])\n",
    "        else:\n",
    "            cleaned.append(string)\n",
    "    for i, entry in enumerate(cleaned):\n",
    "        cleaned[i] = entry.split(\",\")\n",
    "    return cleaned"
   ]
  },
  {
   "cell_type": "code",
   "execution_count": null,
   "metadata": {},
   "outputs": [],
   "source": [
    "def solution(input):\n",
    "    c = 0\n",
    "    for entry in input:\n",
    "        if len(entry) == 1:\n",
    "            continue\n",
    "        if entry[0][0] != \"(\":\n",
    "            continue\n",
    "        if \")\" not in entry[1]:\n",
    "            continue\n",
    "        a = \"\".join(car for car in entry[0] if car.isdecimal())\n",
    "        b = \"\"\n",
    "        for car in entry[1]:\n",
    "            if car.isdecimal():\n",
    "                b += car\n",
    "            else:\n",
    "                if car == \")\":\n",
    "                    break\n",
    "                else:\n",
    "                    continue\n",
    "        c += int(a)*int(b)\n",
    "            #print(a,b,c)\n",
    "    print(c)"
   ]
  },
  {
   "cell_type": "code",
   "execution_count": null,
   "metadata": {},
   "outputs": [],
   "source": [
    "# part 1:\n",
    "solution(preprocess(input))"
   ]
  },
  {
   "cell_type": "code",
   "execution_count": null,
   "metadata": {},
   "outputs": [],
   "source": [
    "# part 2:\n",
    "def remove_donts(input):\n",
    "    split_dont = input.split(\"don't()\")\n",
    "    split_do = [entry.split(\"do()\") for entry in split_dont]\n",
    "    new_input = [split_dont[0]]\n",
    "    for entry in split_do[1:]:\n",
    "        new_input += entry[1:]\n",
    "    return \"\".join(i for i in new_input)"
   ]
  },
  {
   "cell_type": "code",
   "execution_count": null,
   "metadata": {},
   "outputs": [],
   "source": [
    "solution(preprocess(remove_donts(input)))"
   ]
  }
 ],
 "metadata": {
  "kernelspec": {
   "display_name": "Python 3",
   "language": "python",
   "name": "python3"
  },
  "language_info": {
   "codemirror_mode": {
    "name": "ipython",
    "version": 3
   },
   "file_extension": ".py",
   "mimetype": "text/x-python",
   "name": "python",
   "nbconvert_exporter": "python",
   "pygments_lexer": "ipython3",
   "version": "3.11.9"
  }
 },
 "nbformat": 4,
 "nbformat_minor": 2
}

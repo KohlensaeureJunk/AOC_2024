{
 "cells": [
  {
   "cell_type": "code",
   "execution_count": 50,
   "metadata": {},
   "outputs": [],
   "source": [
    "import numpy as np\n",
    "from tqdm import tqdm\n",
    "from collections import deque\n",
    "import timeit\n",
    "with open(\"input_12\") as f:\n",
    "    input = np.asarray([np.asarray([i for i in line]) for line in f.read().split(\"\\n\")])"
   ]
  },
  {
   "cell_type": "code",
   "execution_count": null,
   "metadata": {},
   "outputs": [],
   "source": [
    "alphabet = \"ABCDEFGHIJKLMNOPQRSTUVWXYZ\"\n",
    "len(alphabet)"
   ]
  },
  {
   "cell_type": "code",
   "execution_count": 47,
   "metadata": {},
   "outputs": [],
   "source": [
    "def find_areas_1(crop_type, input):\n",
    "    crops = np.where(input == crop_type)\n",
    "    lots = list(zip(crops[0].tolist(), crops[1].tolist()))\n",
    "    areas = []\n",
    "    while len(lots) > 0:\n",
    "        current_area = {lots[0]}\n",
    "        del lots[0]\n",
    "        prev_len = 0\n",
    "        while len(current_area) > prev_len:\n",
    "            prev_len = len(current_area)\n",
    "            for i, lot in enumerate(lots):\n",
    "                neighbors = [(lot[0]+1,lot[1]),(lot[0]-1,lot[1]),(lot[0],lot[1]+1),(lot[0],lot[1]-1)]\n",
    "                for neighbor in neighbors:\n",
    "                    if neighbor in current_area:\n",
    "                        current_area.add(lot)\n",
    "                        del lots[i]\n",
    "                        break\n",
    "        areas.append(current_area)\n",
    "    return areas"
   ]
  },
  {
   "cell_type": "code",
   "execution_count": 56,
   "metadata": {},
   "outputs": [],
   "source": [
    "def find_areas_2(crop_type, input):\n",
    "    crops = np.where(input == crop_type)\n",
    "    lots = list(zip(crops[0].tolist(), crops[1].tolist()))\n",
    "    areas = []\n",
    "    queue = deque()\n",
    "    while len(lots) > 0:\n",
    "        current_area = {lots[0]}\n",
    "        queue.append(lots[0])\n",
    "        del lots[0]\n",
    "        while len(queue) > 0:\n",
    "            el = queue.pop()\n",
    "            neighbors = [(el[0]+i,el[1]) for i in (-1,1)]\n",
    "            neighbors += [(el[0],el[1]+i) for i in (-1,1)]\n",
    "            for neighbor in neighbors:\n",
    "                if neighbor in lots:\n",
    "                    current_area.add(neighbor)\n",
    "                    queue.append(neighbor)\n",
    "                    lots.remove(neighbor)\n",
    "        areas.append(current_area)\n",
    "    return areas\n"
   ]
  },
  {
   "cell_type": "code",
   "execution_count": 53,
   "metadata": {},
   "outputs": [],
   "source": [
    "#solution with scipy:\n",
    "from scipy.ndimage import label\n",
    "def find_areas_3(crop_type, input):\n",
    "    np.putmask(input, input != crop_type, 0)\n",
    "    np.putmask(input, input == crop_type, 1)\n",
    "    mask = np.astype(input, int)\n",
    "    labels, _ = label(mask)\n",
    "    areas = [np.where(labels == i) for i in range(1, labels.max() + 1)]\n",
    "    return [list(zip(area[0], area[1])) for area in areas]\n",
    "        "
   ]
  },
  {
   "cell_type": "code",
   "execution_count": 23,
   "metadata": {},
   "outputs": [],
   "source": [
    "def perimeter(area):\n",
    "    perimeter = 0\n",
    "    for coord in area:\n",
    "        for i in (-1, 1):\n",
    "            if (coord[0] + i, coord[1]) not in area:\n",
    "                perimeter += 1\n",
    "            if (coord[0], coord[1] + i) not in area:\n",
    "                perimeter += 1\n",
    "    return perimeter\n"
   ]
  },
  {
   "cell_type": "code",
   "execution_count": null,
   "metadata": {},
   "outputs": [],
   "source": [
    "%timeit for letter in alphabet: find_areas(letter, input.copy())"
   ]
  },
  {
   "cell_type": "code",
   "execution_count": null,
   "metadata": {},
   "outputs": [],
   "source": [
    "%timeit for letter in alphabet: find_areas_2(letter, input.copy())"
   ]
  },
  {
   "cell_type": "code",
   "execution_count": null,
   "metadata": {},
   "outputs": [],
   "source": [
    "%timeit for letter in alphabet: find_areas_3(letter, input.copy())"
   ]
  },
  {
   "cell_type": "code",
   "execution_count": null,
   "metadata": {},
   "outputs": [],
   "source": [
    "c = 0\n",
    "for letter in tqdm(alphabet):\n",
    "    areas = find_areas_3(letter, input.copy())\n",
    "    for area in areas:\n",
    "        price = len(area) * perimeter(area)\n",
    "        c += price\n",
    "c"
   ]
  },
  {
   "cell_type": "code",
   "execution_count": 12,
   "metadata": {},
   "outputs": [],
   "source": [
    "def perimeter_2(area, N):\n",
    "    def upper_perimeter(area, N):\n",
    "        perimeter = 0\n",
    "        for i in range(N):\n",
    "            last = False\n",
    "            for j in range(N):\n",
    "                if (i,j) in area and (i-1,j) not in area:\n",
    "                    if not last:\n",
    "                        perimeter += 1\n",
    "                        last = True\n",
    "                else:\n",
    "                    last = False\n",
    "        return perimeter\n",
    "    perimeter = 0\n",
    "    def rot(area, N):\n",
    "        rotated_area = []\n",
    "        for coord in area:\n",
    "            new_coord = (N-coord[1]-1, coord[0])\n",
    "            rotated_area.append(new_coord)\n",
    "        return rotated_area\n",
    "    for _ in range(4):\n",
    "        perimeter += upper_perimeter(area, N)\n",
    "        area = rot(area, N)\n",
    "    return perimeter"
   ]
  },
  {
   "cell_type": "code",
   "execution_count": null,
   "metadata": {},
   "outputs": [],
   "source": [
    "c = 0\n",
    "for letter in tqdm(alphabet):\n",
    "    areas = find_areas(letter, input.copy())\n",
    "    for area in areas:\n",
    "        price = len(area) * perimeter_2(area, len(input))\n",
    "        c += price\n",
    "c"
   ]
  },
  {
   "cell_type": "code",
   "execution_count": null,
   "metadata": {},
   "outputs": [],
   "source": []
  }
 ],
 "metadata": {
  "kernelspec": {
   "display_name": "Python 3",
   "language": "python",
   "name": "python3"
  },
  "language_info": {
   "codemirror_mode": {
    "name": "ipython",
    "version": 3
   },
   "file_extension": ".py",
   "mimetype": "text/x-python",
   "name": "python",
   "nbconvert_exporter": "python",
   "pygments_lexer": "ipython3",
   "version": "3.11.9"
  }
 },
 "nbformat": 4,
 "nbformat_minor": 2
}

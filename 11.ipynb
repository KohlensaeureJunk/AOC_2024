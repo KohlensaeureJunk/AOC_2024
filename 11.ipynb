{
 "cells": [
  {
   "cell_type": "code",
   "execution_count": null,
   "metadata": {},
   "outputs": [],
   "source": [
    "from tqdm import tqdm\n",
    "with open(\"input_11\") as f:\n",
    "    input = [int(i) for i in f.read().split(\" \")]\n",
    "#input = [125, 17]"
   ]
  },
  {
   "cell_type": "code",
   "execution_count": null,
   "metadata": {},
   "outputs": [],
   "source": [
    "def evolve_and_count(input, num_iterations, prin = False):\n",
    "    for _ in tqdm(range(num_iterations)):\n",
    "        input_len = len(input) # dont want iteration length to change\n",
    "        for i in range(input_len):\n",
    "            stone = input[i]\n",
    "            length = len(str(stone))\n",
    "            if stone == 0:\n",
    "                input[i] = 1\n",
    "            elif length % 2 == 0:\n",
    "                left = int(str(stone)[:length//2])\n",
    "                right = int(str(stone)[length//2:])\n",
    "                input[i] = left\n",
    "                input.append(right)\n",
    "            else:\n",
    "                input[i] *= 2024\n",
    "        if prin:\n",
    "            print(input)\n",
    "    return(len(input))"
   ]
  },
  {
   "cell_type": "code",
   "execution_count": null,
   "metadata": {},
   "outputs": [],
   "source": [
    "# part 1:\n",
    "evolve_and_count(input.copy(), 25)"
   ]
  },
  {
   "cell_type": "code",
   "execution_count": null,
   "metadata": {},
   "outputs": [],
   "source": [
    "# part 2:\n",
    "def evolve_and_count_2(input, num_iterations, pt = False):\n",
    "    multiplicities = [1] * len(input) # assuming no redundancy in input\n",
    "    for _ in tqdm(range(num_iterations)):\n",
    "\n",
    "        # remove redundancies and save them in multiplicity list\n",
    "        new_input = []\n",
    "        new_multiplicities = []\n",
    "        for i, el in enumerate(input):\n",
    "            if el not in new_input:\n",
    "                new_input.append(el)\n",
    "                new_multiplicities.append(multiplicities[i])\n",
    "            else:\n",
    "                new_multiplicities[new_input.index(el)] += multiplicities[i]\n",
    "        input = new_input\n",
    "        multiplicities = new_multiplicities\n",
    "\n",
    "        # do the normal one-step evolution\n",
    "        input_len = len(input) # dont want iteration length to change\n",
    "        for i in range(input_len):\n",
    "            stone = input[i]\n",
    "            length = len(str(stone))\n",
    "            if stone == 0:\n",
    "                input[i] = 1\n",
    "            elif length % 2 == 0:\n",
    "                left = int(str(stone)[:length//2])\n",
    "                right = int(str(stone)[length//2:])\n",
    "                input[i] = left\n",
    "                input.append(right)\n",
    "                multiplicities.append(multiplicities[i])\n",
    "            else:\n",
    "                input[i] *= 2024\n",
    "        if pt:\n",
    "            print(input)\n",
    "            print(multiplicities)\n",
    "    # calculate total length:\n",
    "    print(sum(multiplicities))"
   ]
  },
  {
   "cell_type": "code",
   "execution_count": null,
   "metadata": {},
   "outputs": [],
   "source": [
    "evolve_and_count_2(input, 75)"
   ]
  }
 ],
 "metadata": {
  "kernelspec": {
   "display_name": "Python 3",
   "language": "python",
   "name": "python3"
  },
  "language_info": {
   "codemirror_mode": {
    "name": "ipython",
    "version": 3
   },
   "file_extension": ".py",
   "mimetype": "text/x-python",
   "name": "python",
   "nbconvert_exporter": "python",
   "pygments_lexer": "ipython3",
   "version": "3.11.9"
  }
 },
 "nbformat": 4,
 "nbformat_minor": 2
}

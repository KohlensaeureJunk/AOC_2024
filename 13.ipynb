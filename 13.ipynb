{
 "cells": [
  {
   "cell_type": "code",
   "execution_count": null,
   "metadata": {},
   "outputs": [],
   "source": [
    "import numpy as np\n",
    "with open(\"input_13\") as f:\n",
    "    input = f.read().split(\"\\n\\n\")\n",
    "input"
   ]
  },
  {
   "cell_type": "code",
   "execution_count": null,
   "metadata": {},
   "outputs": [],
   "source": [
    "machines = []\n",
    "for line in input:\n",
    "    split = line.split(\"\\n\")\n",
    "    machine = {}\n",
    "    machine[\"A\"] = np.asarray((int(split[0][12:14]), int(split[0][-2:])) )\n",
    "    machine[\"B\"] = np.asarray((int(split[1][12:14]), int(split[1][-2:])) )\n",
    "    prize = split[2].split(\" \")\n",
    "    machine[\"prize\"] = np.asarray((int(prize[1][2:-1]), int(prize[2][2:])) )\n",
    "    machines.append(machine)\n",
    "machines"
   ]
  },
  {
   "cell_type": "code",
   "execution_count": 74,
   "metadata": {},
   "outputs": [],
   "source": [
    "def find_lowest_price(machine):\n",
    "    # start from low A and high B\n",
    "    avals = np.arange(101)\n",
    "    bvals = np.arange(101,0,-1)\n",
    "    #vecs = np.stack((avals,bvals),1)\n",
    "    for a in avals:\n",
    "        for b in bvals:\n",
    "            if np.all(a * machine[\"A\"] + b * machine[\"B\"] == machine[\"prize\"]):\n",
    "                return (a*3 + b).item()\n",
    "    return 0\n",
    "        "
   ]
  },
  {
   "cell_type": "code",
   "execution_count": null,
   "metadata": {},
   "outputs": [],
   "source": [
    "c = 0\n",
    "for machine in machines:\n",
    "    c += find_lowest_price(machine)\n",
    "c"
   ]
  },
  {
   "cell_type": "code",
   "execution_count": null,
   "metadata": {},
   "outputs": [],
   "source": []
  }
 ],
 "metadata": {
  "kernelspec": {
   "display_name": "Python 3",
   "language": "python",
   "name": "python3"
  },
  "language_info": {
   "codemirror_mode": {
    "name": "ipython",
    "version": 3
   },
   "file_extension": ".py",
   "mimetype": "text/x-python",
   "name": "python",
   "nbconvert_exporter": "python",
   "pygments_lexer": "ipython3",
   "version": "3.11.9"
  }
 },
 "nbformat": 4,
 "nbformat_minor": 2
}

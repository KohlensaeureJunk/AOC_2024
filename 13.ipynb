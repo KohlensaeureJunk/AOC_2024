{
 "cells": [
  {
   "cell_type": "code",
   "execution_count": 35,
   "metadata": {},
   "outputs": [],
   "source": [
    "import numpy as np\n",
    "with open(\"input_13\") as f:\n",
    "    input = f.read().split(\"\\n\\n\")"
   ]
  },
  {
   "cell_type": "code",
   "execution_count": 2,
   "metadata": {},
   "outputs": [],
   "source": [
    "machines = []\n",
    "for line in input:\n",
    "    split = line.split(\"\\n\")\n",
    "    machine = {}\n",
    "    machine[\"A\"] = np.asarray((int(split[0][12:14]), int(split[0][-2:])) )\n",
    "    machine[\"B\"] = np.asarray((int(split[1][12:14]), int(split[1][-2:])) )\n",
    "    prize = split[2].split(\" \")\n",
    "    machine[\"prize\"] = np.asarray((int(prize[1][2:-1]), int(prize[2][2:])) )\n",
    "    machines.append(machine)"
   ]
  },
  {
   "cell_type": "markdown",
   "metadata": {},
   "source": [
    "## Part 1:"
   ]
  },
  {
   "cell_type": "code",
   "execution_count": 3,
   "metadata": {},
   "outputs": [],
   "source": [
    "def find_lowest_price(machine):\n",
    "    # start from low A and high B\n",
    "    avals = np.arange(101)\n",
    "    bvals = np.arange(101,0,-1)\n",
    "    for a in avals:\n",
    "        for b in bvals:\n",
    "            if np.all(a * machine[\"A\"] + b * machine[\"B\"] == machine[\"prize\"]):\n",
    "                return (a*3 + b).item()\n",
    "    return 0"
   ]
  },
  {
   "cell_type": "code",
   "execution_count": null,
   "metadata": {},
   "outputs": [],
   "source": [
    "c = 0\n",
    "for machine in machines:\n",
    "    c += find_lowest_price(machine)\n",
    "c"
   ]
  },
  {
   "cell_type": "code",
   "execution_count": 5,
   "metadata": {},
   "outputs": [],
   "source": [
    "# works too, but faster\n",
    "def find_combination(A, B, sum):\n",
    "    # want A small, B large\n",
    "    # starting values:\n",
    "    num_B = np.max(sum // B)\n",
    "    delta = sum - num_B * B\n",
    "    if np.all(delta == 0):\n",
    "        return(0, num_B)\n",
    "    while num_B > 0:\n",
    "        num_B -= 1\n",
    "        delta += B\n",
    "        num_A = delta // A\n",
    "        if np.all(delta % A == 0) and num_A[0] == num_A[1]:\n",
    "            return (num_A[0], num_B)\n",
    "    return None"
   ]
  },
  {
   "cell_type": "code",
   "execution_count": null,
   "metadata": {},
   "outputs": [],
   "source": [
    "c = 0\n",
    "for machine in machines:\n",
    "    combination = find_combination(machine[\"A\"], machine[\"B\"], machine[\"prize\"])\n",
    "    if combination is not None:\n",
    "        A,B = combination\n",
    "        c += A * 3 + B\n",
    "c.item()"
   ]
  },
  {
   "cell_type": "markdown",
   "metadata": {},
   "source": [
    "## Part 2:"
   ]
  },
  {
   "cell_type": "code",
   "execution_count": null,
   "metadata": {},
   "outputs": [],
   "source": [
    "number_to_add = 10000000000000\n",
    "for machine in machines:\n",
    "    machine[\"prize\"] += number_to_add"
   ]
  },
  {
   "cell_type": "markdown",
   "metadata": {},
   "source": [
    "We want to find solution to num_a * a + num_b * b = sum (1) \\\n",
    "A solution exists iff gcd(a,b)|c. \\\n",
    "First find solution for separate dimensions:"
   ]
  },
  {
   "cell_type": "code",
   "execution_count": 166,
   "metadata": {},
   "outputs": [],
   "source": [
    "def find_num_A(A, B, sum):\n",
    "    #check if solution exists:\n",
    "    if sum % math.gcd(A, B) != 0:\n",
    "        return None\n",
    "    # fill sum with B, then subtract until n*a fit\n",
    "    # starting values:\n",
    "    delta = sum % B\n",
    "    if delta == 0:\n",
    "        return 0\n",
    "    while delta < sum:\n",
    "        delta += B\n",
    "        if delta % A == 0:\n",
    "            return delta // A"
   ]
  },
  {
   "cell_type": "markdown",
   "metadata": {},
   "source": [
    "Now we have a solution given by num_a0, num_b0. The general solution is: \\\n",
    "num_a = num_a0 - r * b/gcd(a,b) and num_b = num_b0 + r * a/gcd(a,b) with r any integer. \\\n",
    "After doing this for both dimensions, we require: num_a_x = num_a_y and num_b_x = num_b_y. \\\n",
    "Then you solve for r_x and r_y and plug it into the formulas for num_a and num_b."
   ]
  },
  {
   "cell_type": "code",
   "execution_count": 169,
   "metadata": {},
   "outputs": [],
   "source": [
    "def find_combination_2D(machine):\n",
    "    A = machine[\"A\"]\n",
    "    B = machine[\"B\"]\n",
    "    sum = machine[\"prize\"]\n",
    "    gcd = [math.gcd(a,b) for a,b in zip(A,B)]\n",
    "    num_ax = find_num_A(A[0], B[0], sum[0])\n",
    "    num_ay = find_num_A(A[1], B[1], sum[1])\n",
    "    if None in (num_ax, num_ay):\n",
    "        return 0,0\n",
    "    num_bx = (sum[0] - num_ax*A[0]) // B[0]\n",
    "    num_by = (sum[1] - num_ay*A[1]) // B[1]\n",
    "    r = (gcd[0] * (A[1] * (num_ax - num_ay) + B[1] * (num_bx - num_by))) / (B[0]*A[1] - B[1]*A[0])\n",
    "    # need to check if r ist int:\n",
    "    if not r.is_integer():\n",
    "        return 0,0\n",
    "    num_a = num_ax - int(r) * B[0] // gcd[0]\n",
    "    num_b = num_bx + int(r) * A[0] // gcd[0]\n",
    "    return np.array((num_a, num_b))"
   ]
  },
  {
   "cell_type": "code",
   "execution_count": null,
   "metadata": {},
   "outputs": [],
   "source": [
    "c = 0\n",
    "weights = np.array((3,1))\n",
    "for machine in machines:\n",
    "    c += np.dot(weights, find_combination_2D(machine))\n",
    "c.item()"
   ]
  }
 ],
 "metadata": {
  "kernelspec": {
   "display_name": "Python 3",
   "language": "python",
   "name": "python3"
  },
  "language_info": {
   "codemirror_mode": {
    "name": "ipython",
    "version": 3
   },
   "file_extension": ".py",
   "mimetype": "text/x-python",
   "name": "python",
   "nbconvert_exporter": "python",
   "pygments_lexer": "ipython3",
   "version": "3.11.9"
  }
 },
 "nbformat": 4,
 "nbformat_minor": 2
}

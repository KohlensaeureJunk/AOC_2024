{
 "cells": [
  {
   "cell_type": "code",
   "execution_count": 57,
   "metadata": {},
   "outputs": [],
   "source": [
    "with open(\"input_2\") as f:\n",
    "    file = f.read().split(\"\\n\")\n",
    "reports = [[int(level) for level in report.split(\" \")] for report in file[:-1]]"
   ]
  },
  {
   "cell_type": "code",
   "execution_count": null,
   "metadata": {},
   "outputs": [
    {
     "data": {
      "text/plain": [
       "534"
      ]
     },
     "execution_count": 24,
     "metadata": {},
     "output_type": "execute_result"
    }
   ],
   "source": [
    "# part 1:\n",
    "unsafe_count = 0\n",
    "for report in reports:\n",
    "    prev_sign = 0\n",
    "    for i in range(len(report)-1):\n",
    "        diff = report[i] - report[i+1]\n",
    "        if abs(diff) > 3 or diff == 0:\n",
    "            unsafe_count += 1\n",
    "            break\n",
    "        sign = diff//abs(diff)\n",
    "        if sign != prev_sign and prev_sign != 0:\n",
    "            unsafe_count += 1\n",
    "            break\n",
    "        prev_sign = sign\n",
    "len(reports) - unsafe_count"
   ]
  },
  {
   "cell_type": "code",
   "execution_count": 71,
   "metadata": {},
   "outputs": [],
   "source": [
    "def check_safety(report):\n",
    "    prev_sign = 0\n",
    "    for i in range(len(report)-1):\n",
    "        diff = report[i] - report[i+1]\n",
    "        #print(diff)\n",
    "        if abs(diff) > 3 or diff == 0:\n",
    "            #print(\"diff too large or 0\")\n",
    "            return False\n",
    "        sign = diff//abs(diff)\n",
    "        if sign != prev_sign and prev_sign != 0:\n",
    "            return False\n",
    "        prev_sign = sign\n",
    "    return True"
   ]
  },
  {
   "cell_type": "code",
   "execution_count": 72,
   "metadata": {},
   "outputs": [
    {
     "data": {
      "text/plain": [
       "577"
      ]
     },
     "execution_count": 72,
     "metadata": {},
     "output_type": "execute_result"
    }
   ],
   "source": [
    "# part 2:\n",
    "safe_count = 0\n",
    "for report in reports:\n",
    "    if check_safety(report) == True:\n",
    "        safe_count += 1\n",
    "    else:\n",
    "        for i in range(len(report)):\n",
    "            if check_safety(report[:i] + report[i+1:]) == True:\n",
    "                safe_count += 1\n",
    "                break\n",
    "safe_count"
   ]
  },
  {
   "cell_type": "code",
   "execution_count": null,
   "metadata": {},
   "outputs": [],
   "source": []
  }
 ],
 "metadata": {
  "kernelspec": {
   "display_name": "Python 3",
   "language": "python",
   "name": "python3"
  },
  "language_info": {
   "codemirror_mode": {
    "name": "ipython",
    "version": 3
   },
   "file_extension": ".py",
   "mimetype": "text/x-python",
   "name": "python",
   "nbconvert_exporter": "python",
   "pygments_lexer": "ipython3",
   "version": "3.11.9"
  }
 },
 "nbformat": 4,
 "nbformat_minor": 2
}

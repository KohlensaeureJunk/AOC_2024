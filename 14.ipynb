{
 "cells": [
  {
   "cell_type": "code",
   "execution_count": 255,
   "metadata": {},
   "outputs": [],
   "source": [
    "import re\n",
    "import numpy as np\n",
    "from copy import deepcopy\n",
    "with open(\"input_14\") as f:\n",
    "    input = f.read().split(\"\\n\")\n",
    "robots = []\n",
    "for line in input:\n",
    "    robot = {}\n",
    "    split = line.split(\" \")\n",
    "    robot[\"pos\"] = [int(i) for i in re.findall(\"-?\\d{1,3}\", split[0])]\n",
    "    robot[\"vel\"] = [int(i) for i in re.findall(\"-?\\d{1,3}\", split[1])]\n",
    "    robots.append(robot)"
   ]
  },
  {
   "cell_type": "code",
   "execution_count": 256,
   "metadata": {},
   "outputs": [],
   "source": [
    "Xlen = 101\n",
    "Ylen = 103"
   ]
  },
  {
   "cell_type": "code",
   "execution_count": 257,
   "metadata": {},
   "outputs": [],
   "source": [
    "def draw(robots, Xlen, Ylen):\n",
    "    canvas = np.zeros((Ylen, Xlen), dtype=int)\n",
    "    for robot in robots:\n",
    "        canvas[robot[\"pos\"][1]][robot[\"pos\"][0]] = 1\n",
    "    return canvas"
   ]
  },
  {
   "cell_type": "code",
   "execution_count": 258,
   "metadata": {},
   "outputs": [],
   "source": [
    "def update(robot, Xlen, Ylen):\n",
    "    new_x = robot[\"pos\"][0] + robot[\"vel\"][0]\n",
    "    new_y = robot[\"pos\"][1] + robot[\"vel\"][1]\n",
    "    if new_x >= Xlen:\n",
    "        new_x -= Xlen\n",
    "    if new_x < 0:\n",
    "        new_x = Xlen + new_x\n",
    "    if new_y >= Ylen:\n",
    "        new_y -= Ylen\n",
    "    if new_y < 0:\n",
    "        new_y = Ylen + new_y\n",
    "    robot[\"pos\"] = [new_x, new_y]\n",
    "    return robot"
   ]
  },
  {
   "cell_type": "code",
   "execution_count": 259,
   "metadata": {},
   "outputs": [],
   "source": [
    "robots_a = deepcopy(robots)\n",
    "for robot in robots_a:\n",
    "    for _ in range(100):\n",
    "        update(robot, Xlen, Ylen)"
   ]
  },
  {
   "cell_type": "code",
   "execution_count": 260,
   "metadata": {},
   "outputs": [],
   "source": [
    "def safety_factor(robots, Xlen, Ylen):\n",
    "    q1, q2, q3, q4 = 0,0,0,0\n",
    "    for robot in robots:\n",
    "        x, y = robot[\"pos\"]\n",
    "        if y < Ylen // 2:\n",
    "            if x < Xlen // 2:\n",
    "                q1 += 1\n",
    "            elif x > Xlen // 2:\n",
    "                q2 += 1\n",
    "        elif y > Ylen // 2:\n",
    "            if x < Xlen // 2:\n",
    "                q3 += 1\n",
    "            elif x > Xlen // 2:\n",
    "                q4 += 1\n",
    "    return q1*q2*q3*q4"
   ]
  },
  {
   "cell_type": "code",
   "execution_count": null,
   "metadata": {},
   "outputs": [],
   "source": [
    "safety_factor(robots_a, Xlen, Ylen)"
   ]
  },
  {
   "cell_type": "code",
   "execution_count": 262,
   "metadata": {},
   "outputs": [],
   "source": [
    "def std(array):\n",
    "    sums = np.sum(array, axis=0)\n",
    "    return np.std(sums)"
   ]
  },
  {
   "cell_type": "code",
   "execution_count": 263,
   "metadata": {},
   "outputs": [],
   "source": [
    "stds = []\n",
    "states = {}\n",
    "for i in range(10000):\n",
    "    for robot in robots:\n",
    "        update(robot, Xlen, Ylen)\n",
    "    X = draw(robots, Xlen, Ylen)\n",
    "    st = np.std(np.sum(X, axis=0))\n",
    "    stds.append(st)\n",
    "    if st > 7.0:\n",
    "        states[i] = X"
   ]
  },
  {
   "cell_type": "code",
   "execution_count": null,
   "metadata": {},
   "outputs": [],
   "source": [
    "answer = stds.index(np.max(stds)) + 1\n",
    "answer"
   ]
  },
  {
   "cell_type": "code",
   "execution_count": null,
   "metadata": {},
   "outputs": [],
   "source": [
    "X = states[answer-1] * 255\n",
    "from PIL import Image\n",
    "Image.fromarray(X.astype(np.uint8))"
   ]
  }
 ],
 "metadata": {
  "kernelspec": {
   "display_name": "Python 3",
   "language": "python",
   "name": "python3"
  },
  "language_info": {
   "codemirror_mode": {
    "name": "ipython",
    "version": 3
   },
   "file_extension": ".py",
   "mimetype": "text/x-python",
   "name": "python",
   "nbconvert_exporter": "python",
   "pygments_lexer": "ipython3",
   "version": "3.11.9"
  }
 },
 "nbformat": 4,
 "nbformat_minor": 2
}

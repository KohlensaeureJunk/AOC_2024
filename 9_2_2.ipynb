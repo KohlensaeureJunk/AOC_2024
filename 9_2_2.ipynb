{
 "cells": [
  {
   "cell_type": "code",
   "execution_count": null,
   "metadata": {},
   "outputs": [],
   "source": [
    "with open(\"input_9\") as f:\n",
    "\tinput = f.read()\n",
    "#input = \"12345\"\n",
    "#input = \"2333133121414131402\"\n",
    "n = len(input)"
   ]
  },
  {
   "cell_type": "code",
   "execution_count": null,
   "metadata": {},
   "outputs": [],
   "source": [
    "filesys = []\n",
    "for i in range(0, n, 2):\n",
    "    file = {}\n",
    "    file[\"ID\"] = i // 2\n",
    "    file[\"length\"] = int(input[i])\n",
    "    if i+1 < n:\n",
    "        file[\"blank\"] = int(input[i+1])\n",
    "    else:\n",
    "        file[\"blank\"] = 0\n",
    "    filesys.append(file)"
   ]
  },
  {
   "cell_type": "code",
   "execution_count": null,
   "metadata": {},
   "outputs": [],
   "source": [
    "moved = 0\n",
    "for i in reversed(range(len(filesys))):\n",
    "    index = i + moved\n",
    "    file_to_move = filesys[index]\n",
    "    for j, file in enumerate(filesys[:index]):\n",
    "        if file[\"blank\"] >= file_to_move[\"length\"]:\n",
    "            filesys[index-1][\"blank\"] += file_to_move[\"length\"] + file_to_move[\"blank\"]\n",
    "            file_to_move[\"blank\"] = file[\"blank\"] - file_to_move[\"length\"]\n",
    "            file[\"blank\"] = 0\n",
    "            filesys.insert(j+1, filesys.pop(index))\n",
    "            moved += 1\n",
    "            break"
   ]
  },
  {
   "cell_type": "code",
   "execution_count": null,
   "metadata": {},
   "outputs": [],
   "source": [
    "c = 0\n",
    "a = 0\n",
    "for file in filesys:\n",
    "    for _ in range(file[\"length\"]):\n",
    "        c += a * file[\"ID\"]\n",
    "        a += 1\n",
    "    a += file[\"blank\"]\n",
    "c"
   ]
  }
 ],
 "metadata": {
  "kernelspec": {
   "display_name": "Python 3",
   "language": "python",
   "name": "python3"
  },
  "language_info": {
   "codemirror_mode": {
    "name": "ipython",
    "version": 3
   },
   "file_extension": ".py",
   "mimetype": "text/x-python",
   "name": "python",
   "nbconvert_exporter": "python",
   "pygments_lexer": "ipython3",
   "version": "3.11.9"
  }
 },
 "nbformat": 4,
 "nbformat_minor": 2
}

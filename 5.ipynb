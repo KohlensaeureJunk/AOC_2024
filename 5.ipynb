{
 "cells": [
  {
   "cell_type": "code",
   "execution_count": null,
   "metadata": {},
   "outputs": [],
   "source": [
    "with open(\"input_5\") as f:\n",
    "    input = f.read().split(\"\\n\\n\")"
   ]
  },
  {
   "cell_type": "code",
   "execution_count": null,
   "metadata": {},
   "outputs": [],
   "source": [
    "# preparation\n",
    "ordering_pre = [entry.split(\"|\") for entry in input[0].split(\"\\n\")]\n",
    "ordering = {}\n",
    "for entry in ordering_pre:\n",
    "    if entry[0] not in ordering.keys():\n",
    "        ordering[entry[0]] = [entry[1]]\n",
    "    else:\n",
    "        ordering[entry[0]].append(entry[1])\n",
    "updates = [entry.split(\",\") for entry in input[1].split(\"\\n\")][:-1]"
   ]
  },
  {
   "cell_type": "code",
   "execution_count": null,
   "metadata": {},
   "outputs": [],
   "source": [
    "def check_update(update, ordering):\n",
    "    for i, number in enumerate(update[1:]):\n",
    "        for number_2 in update[:i+1]:\n",
    "            if number in ordering.keys() and number_2 in ordering[number]:\n",
    "                return False\n",
    "    return True"
   ]
  },
  {
   "cell_type": "code",
   "execution_count": null,
   "metadata": {},
   "outputs": [],
   "source": [
    "def solution_1(updates, ordering):\n",
    "    c = 0\n",
    "    for update in updates:\n",
    "        if check_update(update, ordering):\n",
    "            c += int(update[len(update) // 2])\n",
    "    print(c)"
   ]
  },
  {
   "cell_type": "code",
   "execution_count": null,
   "metadata": {},
   "outputs": [],
   "source": [
    "solution_1(updates, ordering)"
   ]
  },
  {
   "cell_type": "code",
   "execution_count": null,
   "metadata": {},
   "outputs": [],
   "source": [
    "# part 2:\n",
    "def order(update, ordering):\n",
    "    while not check_update(update, ordering):\n",
    "        for i, number in enumerate(update[1:]):\n",
    "            for j, number_2 in enumerate(update[:i+1]):\n",
    "                if number in ordering.keys() and number_2 in ordering[number]:\n",
    "                    # switch the numbers\n",
    "                    update[i+1], update[j] = update[j], update[i+1]\n",
    "    return update\n",
    "        "
   ]
  },
  {
   "cell_type": "code",
   "execution_count": null,
   "metadata": {},
   "outputs": [],
   "source": [
    "def solution_2(updates, ordering):\n",
    "    c = 0 \n",
    "    for update in updates:\n",
    "        if not check_update(update, ordering):\n",
    "            ordered_update = order(update, ordering)\n",
    "            c += int(update[len(ordered_update) // 2])\n",
    "    print(c)\n",
    "        \n",
    "solution_2(updates, ordering)"
   ]
  }
 ],
 "metadata": {
  "kernelspec": {
   "display_name": "Python 3",
   "language": "python",
   "name": "python3"
  },
  "language_info": {
   "codemirror_mode": {
    "name": "ipython",
    "version": 3
   },
   "file_extension": ".py",
   "mimetype": "text/x-python",
   "name": "python",
   "nbconvert_exporter": "python",
   "pygments_lexer": "ipython3",
   "version": "3.11.9"
  }
 },
 "nbformat": 4,
 "nbformat_minor": 2
}

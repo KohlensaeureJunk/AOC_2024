{
 "cells": [
  {
   "cell_type": "code",
   "execution_count": 1,
   "metadata": {},
   "outputs": [],
   "source": [
    "import numpy as np"
   ]
  },
  {
   "cell_type": "code",
   "execution_count": 2,
   "metadata": {},
   "outputs": [
    {
     "data": {
      "text/plain": [
       "array([['.', '.', '.', ..., '.', '.', '.'],\n",
       "       ['#', '.', '.', ..., '.', '.', '.'],\n",
       "       ['.', '.', '.', ..., '.', '.', '.'],\n",
       "       ...,\n",
       "       ['.', '.', '.', ..., '#', '.', '.'],\n",
       "       ['.', '.', '.', ..., '.', '.', '.'],\n",
       "       ['.', '.', '.', ..., '.', '.', '.']], dtype='<U1')"
      ]
     },
     "execution_count": 2,
     "metadata": {},
     "output_type": "execute_result"
    }
   ],
   "source": [
    "with open(\"input_6.txt\") as f:\n",
    "    input = np.asarray([[i for i in line] for line in f.read().split(\"\\n\")])\n",
    "input"
   ]
  },
  {
   "cell_type": "code",
   "execution_count": 3,
   "metadata": {},
   "outputs": [],
   "source": [
    "def solution_1(input):\n",
    "    # find starting position:\n",
    "    N = len(input)\n",
    "    c = 0\n",
    "    starting = np.where(input == \"^\")\n",
    "    i,j = int(starting[0]), int(starting[1])\n",
    "    input[i][j] == \"X\"\n",
    "    d = 0\n",
    "    while i > 0:\n",
    "        d+=1\n",
    "        if input[i-1][j] == \"#\":\n",
    "            input = np.rot90(input)\n",
    "            i,j = N-j-1,i\n",
    "        else:\n",
    "            if input[i][j] == \".\":\n",
    "                c += 1\n",
    "                input[i][j] = \"X\"\n",
    "            i -= 1\n",
    "    print(c+2, d)"
   ]
  },
  {
   "cell_type": "code",
   "execution_count": 4,
   "metadata": {},
   "outputs": [
    {
     "name": "stdout",
     "output_type": "stream",
     "text": [
      "5177 5811\n"
     ]
    },
    {
     "name": "stderr",
     "output_type": "stream",
     "text": [
      "C:\\Users\\GewaldMaximi\\AppData\\Local\\Temp\\ipykernel_2284\\552442382.py:6: DeprecationWarning: Conversion of an array with ndim > 0 to a scalar is deprecated, and will error in future. Ensure you extract a single element from your array before performing this operation. (Deprecated NumPy 1.25.)\n",
      "  i,j = int(starting[0]), int(starting[1])\n"
     ]
    }
   ],
   "source": [
    "solution_1(np.copy(input))"
   ]
  },
  {
   "cell_type": "code",
   "execution_count": 12,
   "metadata": {},
   "outputs": [],
   "source": [
    "def solution_2(input):\n",
    "        # find starting position:\n",
    "    N = len(input)\n",
    "    M = len(input[0])\n",
    "    print(N,M)\n",
    "    c = 0\n",
    "    starting = np.where(input == \"^\")\n",
    "    i0,j0 = int(starting[0]), int(starting[1])\n",
    "    for a in range(N):\n",
    "        for b in range(M):\n",
    "            input_copy = input.copy()\n",
    "            break_flag = False\n",
    "            if input_copy[a][b] != \"#\" and (a,b) != (i0,j0):\n",
    "                input_copy[a][b] = \"#\"\n",
    "                i,j = i0,j0\n",
    "                for _ in range(10000):\n",
    "                    if i > 0:\n",
    "                        if input_copy[i-1][j] == \"#\":\n",
    "                            input_copy = np.rot90(input_copy)\n",
    "                            i,j = N-j-1,i\n",
    "                        i -= 1\n",
    "                    else:\n",
    "                        break_flag = True\n",
    "                        break\n",
    "                if not break_flag:\n",
    "                    c += 1\n",
    "    print(c)"
   ]
  },
  {
   "cell_type": "code",
   "execution_count": 13,
   "metadata": {},
   "outputs": [
    {
     "name": "stdout",
     "output_type": "stream",
     "text": [
      "130 130\n"
     ]
    },
    {
     "name": "stderr",
     "output_type": "stream",
     "text": [
      "C:\\Users\\GewaldMaximi\\AppData\\Local\\Temp\\ipykernel_2284\\1661258960.py:8: DeprecationWarning: Conversion of an array with ndim > 0 to a scalar is deprecated, and will error in future. Ensure you extract a single element from your array before performing this operation. (Deprecated NumPy 1.25.)\n",
      "  i0,j0 = int(starting[0]), int(starting[1])\n"
     ]
    },
    {
     "name": "stdout",
     "output_type": "stream",
     "text": [
      "1573\n"
     ]
    }
   ],
   "source": [
    "solution_2(np.copy(input))"
   ]
  },
  {
   "cell_type": "code",
   "execution_count": null,
   "metadata": {},
   "outputs": [],
   "source": [
    "# 1573 too low"
   ]
  },
  {
   "cell_type": "code",
   "execution_count": 7,
   "metadata": {},
   "outputs": [
    {
     "data": {
      "text/plain": [
       "array([['.', '.', '.', ..., '.', '.', '.'],\n",
       "       ['#', '.', '.', ..., '.', '.', '.'],\n",
       "       ['.', '.', '.', ..., '.', '.', '.'],\n",
       "       ...,\n",
       "       ['.', '.', '.', ..., '#', '.', '.'],\n",
       "       ['.', '.', '.', ..., '.', '.', '.'],\n",
       "       ['.', '.', '.', ..., '.', '.', '.']], dtype='<U1')"
      ]
     },
     "execution_count": 7,
     "metadata": {},
     "output_type": "execute_result"
    }
   ],
   "source": [
    "input"
   ]
  },
  {
   "cell_type": "code",
   "execution_count": 8,
   "metadata": {},
   "outputs": [
    {
     "data": {
      "text/plain": [
       "array([['#', '.', '.', ..., '.', '.', '.'],\n",
       "       ['#', '.', '.', ..., '.', '.', '.'],\n",
       "       ['.', '.', '.', ..., '.', '.', '.'],\n",
       "       ...,\n",
       "       ['.', '.', '.', ..., '#', '.', '.'],\n",
       "       ['.', '.', '.', ..., '.', '.', '.'],\n",
       "       ['.', '.', '.', ..., '.', '.', '.']], dtype='<U1')"
      ]
     },
     "execution_count": 8,
     "metadata": {},
     "output_type": "execute_result"
    }
   ],
   "source": [
    "input_copy = input.copy()\n",
    "input_copy[0][0] = \"#\"\n",
    "input_copy"
   ]
  },
  {
   "cell_type": "code",
   "execution_count": null,
   "metadata": {},
   "outputs": [],
   "source": []
  }
 ],
 "metadata": {
  "kernelspec": {
   "display_name": "Python 3",
   "language": "python",
   "name": "python3"
  },
  "language_info": {
   "codemirror_mode": {
    "name": "ipython",
    "version": 3
   },
   "file_extension": ".py",
   "mimetype": "text/x-python",
   "name": "python",
   "nbconvert_exporter": "python",
   "pygments_lexer": "ipython3",
   "version": "3.13.1"
  }
 },
 "nbformat": 4,
 "nbformat_minor": 2
}

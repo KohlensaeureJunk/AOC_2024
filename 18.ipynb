{
 "cells": [
  {
   "cell_type": "code",
   "execution_count": null,
   "metadata": {},
   "outputs": [],
   "source": [
    "import heapq as hq\n",
    "from tqdm import tqdm\n",
    "with open(\"input_18.\") as f:\n",
    "    input = f.read().split(\"\\n\")\n",
    "len(input)"
   ]
  },
  {
   "cell_type": "code",
   "execution_count": 2,
   "metadata": {},
   "outputs": [],
   "source": [
    "# reversed because I want matrix coordinates\n",
    "walls = [tuple(reversed([int(j) for j in i.split(\",\")])) for i in input]"
   ]
  },
  {
   "cell_type": "code",
   "execution_count": 3,
   "metadata": {},
   "outputs": [],
   "source": [
    "def dijkstra(graphlen, walls):\n",
    "\n",
    "    directions = {(1,0), (-1,0), (0,1), (0,-1)}\n",
    "    nodes = []\n",
    "    z = 0\n",
    "\n",
    "    for i in range(graphlen):\n",
    "        node = []\n",
    "        for j in range(graphlen):\n",
    "            if (i,j) in walls:\n",
    "                cost = float(\"inf\")\n",
    "            else: \n",
    "                cost = 1\n",
    "            node.append({\n",
    "                \"cost\": cost,\n",
    "                \"position\":(i,j), \n",
    "                \"distance\": float(\"inf\"),\n",
    "                \"predecessor\": None,\n",
    "            })\n",
    "        nodes.append(node)\n",
    "    nodes[0][0][\"distance\"] = 0\n",
    "    heap = [(0, 0, nodes[0][0])]\n",
    "    seen = set()\n",
    "    \n",
    "    while heap:\n",
    "        _, _, current_node = hq.heappop(heap)\n",
    "        current_position = current_node[\"position\"]\n",
    "        if current_position == (graphlen-1, graphlen-1): break\n",
    "        if current_position in seen: continue\n",
    "        seen.add(current_position)\n",
    "        \n",
    "        for y,x in directions:\n",
    "            position = current_position[0]+y, current_position[1]+x\n",
    "            if position[0] in range(graphlen) and position[1] in range(graphlen) and position != current_node[\"predecessor\"]:\n",
    "                node = nodes[position[0]][position[1]]\n",
    "                dist = current_node[\"distance\"] + node[\"cost\"]\n",
    "                \n",
    "                if dist < node[\"distance\"]:\n",
    "                    nodes[position[0]][position[1]][\"distance\"] = dist\n",
    "                    nodes[position[0]][position[1]][\"predecessor\"] = current_position\n",
    "                    hq.heappush(heap, (dist, (z:=z+1), nodes[position[0]][position[1]]))\n",
    "    return nodes   "
   ]
  },
  {
   "cell_type": "code",
   "execution_count": null,
   "metadata": {},
   "outputs": [],
   "source": [
    "# part 1:\n",
    "graph = dijkstra(71, walls[:1024])\n",
    "graph[-1][-1][\"distance\"]"
   ]
  },
  {
   "cell_type": "code",
   "execution_count": 19,
   "metadata": {},
   "outputs": [],
   "source": [
    "def trace_path(nodes):\n",
    "    path = []\n",
    "    current_node = nodes[-1][-1]\n",
    "    while current_node != nodes[0][0]:\n",
    "        path.append(current_node[\"position\"])\n",
    "        i, j = current_node[\"predecessor\"]\n",
    "        current_node = graph[i][j]\n",
    "    path.append((0, 0))\n",
    "    return path"
   ]
  },
  {
   "cell_type": "code",
   "execution_count": 30,
   "metadata": {},
   "outputs": [],
   "source": [
    "def visualize_grid(nodes):\n",
    "    graphlen = len(nodes)\n",
    "    grid = []\n",
    "    path = trace_path(nodes)\n",
    "    for i in range(graphlen):\n",
    "        line = []\n",
    "        for j in range(graphlen):\n",
    "            if (i,j) in path:\n",
    "                line.append(\"O\")\n",
    "            else:\n",
    "                line.append(\".\")\n",
    "        grid.append(line)\n",
    "    for line in grid:\n",
    "        print(\"\".join(line))"
   ]
  },
  {
   "cell_type": "code",
   "execution_count": null,
   "metadata": {},
   "outputs": [],
   "source": [
    "visualize_grid(graph)"
   ]
  },
  {
   "cell_type": "code",
   "execution_count": null,
   "metadata": {},
   "outputs": [],
   "source": [
    "# part 2:\n",
    "path = trace_path(graph)\n",
    "\n",
    "for i, wall in tqdm(enumerate(walls[1024:])):\n",
    "    if wall in path: # blocked --> recalculate\n",
    "        graph = dijkstra(71, walls[:1024+i+1])\n",
    "        if graph[-1][-1][\"distance\"] == float(\"inf\"):\n",
    "            print(f\"{wall[1]},{wall[0]}\")\n",
    "            break\n",
    "        path = trace_path(graph)\n"
   ]
  }
 ],
 "metadata": {
  "kernelspec": {
   "display_name": "Python 3",
   "language": "python",
   "name": "python3"
  },
  "language_info": {
   "codemirror_mode": {
    "name": "ipython",
    "version": 3
   },
   "file_extension": ".py",
   "mimetype": "text/x-python",
   "name": "python",
   "nbconvert_exporter": "python",
   "pygments_lexer": "ipython3",
   "version": "3.11.9"
  }
 },
 "nbformat": 4,
 "nbformat_minor": 2
}

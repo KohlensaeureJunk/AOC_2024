{
 "cells": [
  {
   "cell_type": "code",
   "execution_count": 231,
   "metadata": {},
   "outputs": [],
   "source": [
    "import numpy as np\n",
    "#filename = \"example_15.txt\"\n",
    "#filename = \"example_15_2.txt\"\n",
    "filename = \"input_15\"\n",
    "with open(filename) as f:\n",
    "    input = f.read().split(\"\\n\\n\")\n",
    "input_grid = np.asarray([[i for i in line] for line in input[0].split(\"\\n\")])\n",
    "movements = \"\".join(input[1].split(\"\\n\"))"
   ]
  },
  {
   "cell_type": "markdown",
   "metadata": {},
   "source": [
    "## Part 1:"
   ]
  },
  {
   "cell_type": "code",
   "execution_count": 232,
   "metadata": {},
   "outputs": [],
   "source": [
    "def update_grid(grid, robot_coordinate, movement):\n",
    "    # get direction from movement:\n",
    "    if movement == \"v\":\n",
    "        direction = np.array([1,0])\n",
    "    elif movement == \">\":\n",
    "        direction = np.array([0,1])\n",
    "    elif movement == \"^\":\n",
    "        direction = np.array([-1,0])\n",
    "    elif movement == \"<\":\n",
    "        direction = np.array([0,-1])\n",
    "    else:\n",
    "        ValueError\n",
    "\n",
    "    if grid[robot_coordinate] != \"@\":\n",
    "        ValueError\n",
    "\n",
    "    #now go in the direction, save box-coordinates until wall or empty space\n",
    "    boxes_to_move = []\n",
    "    for i in range(1, len(grid)):\n",
    "        new_coordinate = tuple(np.array(robot_coordinate) + i*direction)\n",
    "        if grid[new_coordinate] == \"O\":\n",
    "            boxes_to_move.append(np.array(new_coordinate))\n",
    "        elif grid[new_coordinate] == \"#\":\n",
    "            return grid, robot_coordinate\n",
    "        else:\n",
    "            break\n",
    "        \n",
    "    for box in boxes_to_move:\n",
    "            grid[tuple(box + direction)] = \"O\"\n",
    "    new_robot = tuple(np.array(robot_coordinate) + direction)\n",
    "    grid[new_robot] = \"@\"\n",
    "    grid[robot_coordinate] = \".\"\n",
    "    return grid, new_robot"
   ]
  },
  {
   "cell_type": "code",
   "execution_count": 233,
   "metadata": {},
   "outputs": [],
   "source": [
    "# find initial robot coordinate:\n",
    "robot_initial = tuple(i.item() for i in np.array(np.where(input_grid == \"@\")))"
   ]
  },
  {
   "cell_type": "code",
   "execution_count": 234,
   "metadata": {},
   "outputs": [],
   "source": [
    "grid = input_grid.copy()\n",
    "for movement in movements:\n",
    "    grid, robot_initial = update_grid(grid, robot_initial, movement)"
   ]
  },
  {
   "cell_type": "code",
   "execution_count": 235,
   "metadata": {},
   "outputs": [],
   "source": [
    "def score(grid, item):\n",
    "    weight = np.array((100,1))\n",
    "    GPS_coords = np.array(weight) * np.array(np.where(grid == item)).T\n",
    "    return np.sum(GPS_coords)"
   ]
  },
  {
   "cell_type": "code",
   "execution_count": null,
   "metadata": {},
   "outputs": [],
   "source": [
    "score(grid, \"O\").item()"
   ]
  },
  {
   "cell_type": "markdown",
   "metadata": {},
   "source": [
    "## Part 2:"
   ]
  },
  {
   "cell_type": "code",
   "execution_count": 237,
   "metadata": {},
   "outputs": [],
   "source": [
    "grid = input_grid.copy()\n",
    "# enlarge grid:\n",
    "new_grid = []\n",
    "for line in grid:\n",
    "    new_line = []\n",
    "    for el in line:\n",
    "        if el == \"#\":\n",
    "            new_line += [\"#\",\"#\"]\n",
    "        elif el == \"O\":\n",
    "            new_line += [\"[\",\"]\"]\n",
    "        elif el == \".\":\n",
    "            new_line += [\".\",\".\"]\n",
    "        else:\n",
    "            new_line += [\"@\",\".\"]\n",
    "    new_grid.append(new_line)\n",
    "grid = np.array(new_grid)"
   ]
  },
  {
   "cell_type": "code",
   "execution_count": null,
   "metadata": {},
   "outputs": [],
   "source": [
    "def print_grid(grid):\n",
    "    for line in grid:\n",
    "        print(\"\".join(line))\n",
    "print_grid(grid)"
   ]
  },
  {
   "cell_type": "code",
   "execution_count": 239,
   "metadata": {},
   "outputs": [],
   "source": [
    "def update_grid(grid, robot_coordinate, movement):\n",
    "    # get direction from movement:\n",
    "    directions = {\"v\":(1,0),\">\":(0,1),\"^\":(-1,0),\"<\":(0,-1)}\n",
    "    direction = np.array(directions[movement])\n",
    "\n",
    "    boxes_to_move = {}\n",
    "    positions_to_check = [tuple(np.array(robot_coordinate) + direction)]\n",
    "    while len(positions_to_check) > 0:\n",
    "        position_to_check = positions_to_check.pop()\n",
    "        for i in range(len(grid)):\n",
    "            new_coordinate = tuple(np.array(position_to_check) + i*direction)\n",
    "            item = grid[new_coordinate]\n",
    "            if item == \"#\":\n",
    "                return grid, robot_coordinate\n",
    "            elif item in (\"[\",\"]\") and movement in (\"^\",\"v\"):\n",
    "                boxes_to_move[new_coordinate] = item\n",
    "                bracket = {\"[\": 1, \"]\": -1}\n",
    "                partner = (new_coordinate[0], new_coordinate[1] + bracket[item])\n",
    "                if partner not in boxes_to_move.keys():\n",
    "                    positions_to_check.append(partner)\n",
    "            elif item in (\"[\",\"]\") and movement in (\"<\",\">\"):\n",
    "                boxes_to_move[new_coordinate] = item\n",
    "            else:\n",
    "                break\n",
    "\n",
    "    for box in boxes_to_move.keys():\n",
    "        grid[box] = \".\"\n",
    "    for box in boxes_to_move.keys():\n",
    "        grid[tuple(np.array(box) + direction)] = boxes_to_move[box]\n",
    "        \n",
    "    new_robot = tuple(np.array(robot_coordinate) + direction)\n",
    "    grid[new_robot] = \"@\"\n",
    "    grid[robot_coordinate] = \".\"\n",
    "\n",
    "    return grid, new_robot"
   ]
  },
  {
   "cell_type": "code",
   "execution_count": null,
   "metadata": {},
   "outputs": [],
   "source": [
    "robot_initial = tuple(i.item() for i in np.array(np.where(grid == \"@\")))\n",
    "for movement in movements:\n",
    "    grid, robot_initial = update_grid(grid, robot_initial, movement)\n",
    "print_grid(grid)\n",
    "score(grid, \"[\").item()"
   ]
  }
 ],
 "metadata": {
  "kernelspec": {
   "display_name": "Python 3",
   "language": "python",
   "name": "python3"
  },
  "language_info": {
   "codemirror_mode": {
    "name": "ipython",
    "version": 3
   },
   "file_extension": ".py",
   "mimetype": "text/x-python",
   "name": "python",
   "nbconvert_exporter": "python",
   "pygments_lexer": "ipython3",
   "version": "3.11.9"
  }
 },
 "nbformat": 4,
 "nbformat_minor": 2
}

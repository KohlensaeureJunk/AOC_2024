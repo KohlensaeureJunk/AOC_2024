{
 "cells": [
  {
   "cell_type": "code",
   "execution_count": null,
   "metadata": {},
   "outputs": [],
   "source": [
    "with open(\"input_10\") as f:\n",
    "    input = [[int(i) if i.isdecimal() else i for i in line] for line in f.read().split(\"\\n\")]\n",
    "#input"
   ]
  },
  {
   "cell_type": "code",
   "execution_count": null,
   "metadata": {},
   "outputs": [],
   "source": [
    "N = len(input)\n",
    "M = len(input[0])\n",
    "trailheads = []\n",
    "for i in range(N):\n",
    "    for j in range(M):\n",
    "        if input[i][j] == 0:\n",
    "            trailheads.append((i,j))\n",
    "#trailheads"
   ]
  },
  {
   "cell_type": "code",
   "execution_count": null,
   "metadata": {},
   "outputs": [],
   "source": [
    "def score(trailhead, input):\n",
    "    i0, j0 = trailhead[0], trailhead[1]\n",
    "    visit = {i:set() for i in range(10)}\n",
    "    visit[0].add((i0,j0))\n",
    "    for n in range(9):\n",
    "        for (i,j) in visit[n]:\n",
    "            for a in (-1, 1):\n",
    "                if 0 <= j+a < M and input[i][j+a] == n+1:\n",
    "                    visit[n+1].add((i,j+a))\n",
    "                if 0 <= i+a < N and input[i+a][j] == n+1:\n",
    "                    visit[n+1].add((i+a,j))\n",
    "        #print(visit)\n",
    "    return len(visit[9])"
   ]
  },
  {
   "cell_type": "code",
   "execution_count": null,
   "metadata": {},
   "outputs": [],
   "source": [
    "c = 0\n",
    "for trailhead in trailheads:\n",
    "    c += score(trailhead, input)\n",
    "c"
   ]
  },
  {
   "cell_type": "code",
   "execution_count": null,
   "metadata": {},
   "outputs": [],
   "source": [
    "def score_2(trailhead, input):\n",
    "    i0, j0 = trailhead[0], trailhead[1]\n",
    "    visit = {i:[] for i in range(10)}\n",
    "    visit[0].append((i0,j0))\n",
    "    for n in range(9):\n",
    "        for (i,j) in visit[n]:\n",
    "            for a in (-1, 1):\n",
    "                if 0 <= j+a < M and input[i][j+a] == n+1:\n",
    "                    visit[n+1].append((i,j+a))\n",
    "                if 0 <= i+a < N and input[i+a][j] == n+1:\n",
    "                    visit[n+1].append((i+a,j))\n",
    "        #print(visit)\n",
    "    return len(visit[9])"
   ]
  },
  {
   "cell_type": "code",
   "execution_count": null,
   "metadata": {},
   "outputs": [],
   "source": [
    "d = 0\n",
    "for trailhead in trailheads:\n",
    "    d += score_2(trailhead, input)\n",
    "d"
   ]
  }
 ],
 "metadata": {
  "kernelspec": {
   "display_name": "Python 3",
   "language": "python",
   "name": "python3"
  },
  "language_info": {
   "codemirror_mode": {
    "name": "ipython",
    "version": 3
   },
   "file_extension": ".py",
   "mimetype": "text/x-python",
   "name": "python",
   "nbconvert_exporter": "python",
   "pygments_lexer": "ipython3",
   "version": "3.11.9"
  }
 },
 "nbformat": 4,
 "nbformat_minor": 2
}
